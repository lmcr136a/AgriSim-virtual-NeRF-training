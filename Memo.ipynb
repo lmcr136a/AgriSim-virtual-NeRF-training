{
 "cells": [
  {
   "cell_type": "code",
   "execution_count": 11,
   "id": "97fca3da",
   "metadata": {},
   "outputs": [],
   "source": [
    "import random\n",
    "import numpy as np\n",
    "from gym import Env\n",
    "from gym.spaces import Box"
   ]
  },
  {
   "cell_type": "code",
   "execution_count": null,
   "id": "1b044510",
   "metadata": {},
   "outputs": [],
   "source": [
    "env = NeRFENV(position_candidates)\n",
    "env = ENV()\n",
    "    agent = Agent(env=env, lr=1e-3, gamma=0.99, n_actions=5, epsilon=1.0,\n",
    "                  batch_size=64, input_dims=[1])\n",
    "    n_games = 100\n",
    "    ddqn_scores = []\n",
    "    eps_history = []\n",
    "\n",
    "    load_checkpoint = 1 if input(\"Load checkpoint? (True/False) : \") == 'True' else 0\n",
    "    training_resume = 1 if input(\"Training resume? (True/False) : \") == 'True' else 0\n",
    "    print(load_checkpoint, training_resume)\n",
    "    if load_checkpoint:\n",
    "        n_steps = 0\n",
    "        while n_steps <= agent.batch_size:\n",
    "            observation = env.reset()\n",
    "            action = np.random.choice(env.action_space)\n",
    "            observation_, reward, done, info = env.step(action)\n",
    "            agent.store_transition(observation, action, reward, observation_, done)\n",
    "            n_steps += 1\n",
    "        agent.learn()\n",
    "        model_name = input(\"Enter model name under models dir (ex. dueling): \")\n",
    "        agent.load_models(model_name)\n",
    "        evaluate = False if training_resume == 1 else True\n",
    "    else:\n",
    "        evaluate = False\n",
    "\n",
    "    print(evaluate)\n",
    "    if evaluate is True: n_games = 1\n",
    "\n",
    "    for i in range(n_games):\n",
    "        done = False\n",
    "        score = 0\n",
    "        observation = env.reset()\n",
    "        print(\"initial state: \", observation, end='\\t')\n",
    "        while not done:\n",
    "            # if you train model, change choose_action's evaluate to False\n",
    "            action = agent.choose_action(observation, evaluate=True)\n",
    "            observation_, reward, done, info = env.step(action)\n",
    "            print(f\"- action: {action} | state: {observation_} | reward: {reward}\")\n",
    "            score += reward\n",
    "            agent.store_transition(observation, action, reward, observation_, done)\n",
    "            if not evaluate:\n",
    "                agent.learn()\n",
    "            observation = observation_\n",
    "        eps_history.append(agent.epsilon)\n",
    "\n",
    "        ddqn_scores.append(score)\n",
    "\n",
    "        avg_score = np.mean(ddqn_scores[-100:])\n",
    "        print('| episode: ', i,'\\t| score: %.2f' % score, '\\t| average score %.2f' % avg_score)\n",
    "        print(\" - last state: \", observation, \"\\t| reward: \", reward, \"\\t| action: \", action, \"\\t| epsilon: \", agent.epsilon)\n",
    "        \n",
    "        if (i % 20 == 0 and i != 0) or i == n_games - 1:\n",
    "            if not load_checkpoint:\n",
    "                agent.save_models('h5_duel' + str(i))"
   ]
  }
 ],
 "metadata": {
  "kernelspec": {
   "display_name": "Python 3 (ipykernel)",
   "language": "python",
   "name": "python3"
  },
  "language_info": {
   "codemirror_mode": {
    "name": "ipython",
    "version": 3
   },
   "file_extension": ".py",
   "mimetype": "text/x-python",
   "name": "python",
   "nbconvert_exporter": "python",
   "pygments_lexer": "ipython3",
   "version": "3.11.5"
  }
 },
 "nbformat": 4,
 "nbformat_minor": 5
}
