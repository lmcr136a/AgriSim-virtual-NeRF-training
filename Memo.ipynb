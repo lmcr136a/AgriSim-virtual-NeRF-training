{
 "cells": [
  {
   "cell_type": "code",
   "execution_count": 1,
   "id": "5148e3b9",
   "metadata": {},
   "outputs": [
    {
     "name": "stderr",
     "output_type": "stream",
     "text": [
      "2024-02-09 10:20:05.651208: I tensorflow/core/platform/cpu_feature_guard.cc:182] This TensorFlow binary is optimized to use available CPU instructions in performance-critical operations.\n",
      "To enable the following instructions: AVX2 FMA, in other operations, rebuild TensorFlow with the appropriate compiler flags.\n",
      "2024-02-09 10:20:06.215769: W tensorflow/compiler/tf2tensorrt/utils/py_utils.cc:38] TF-TRT Warning: Could not find TensorRT\n"
     ]
    }
   ],
   "source": [
    "%load_ext autoreload\n",
    "%autoreload 2\n",
    "import numpy as np\n",
    "import torch\n",
    "from utils import config_parser\n",
    "from rl import RL\n",
    "class Namespace:\n",
    "    def __init__(self, **kwargs):\n",
    "        self.__dict__.update(kwargs)"
   ]
  },
  {
   "cell_type": "code",
   "execution_count": 2,
   "id": "2ea0f988",
   "metadata": {},
   "outputs": [],
   "source": [
    "torch.set_default_tensor_type('torch.cuda.FloatTensor')\n",
    "\n",
    "\"\"\"\n",
    "Total sample num of fern: 20\n",
    "16 = 4 + 4 + 4 + 4\n",
    "    n0  n1  n2  n3\n",
    "\"\"\"\n",
    "args = Namespace(config='configs/fern.txt', expname='fern_test', basedir='./logs', datadir='../data/nerf_llff_data/fern', netdepth=8, netwidth=256, netdepth_fine=8, netwidth_fine=256, N_rand=1024, lrate=0.0005, lrate_decay=250, chunk=32768, netchunk=65536, no_batching=False, no_reload=False, ft_path=None, N_samples=64, N_importance=64, perturb=1.0, use_viewdirs=True, i_embed=0, multires=10, multires_views=4, raw_noise_std=1.0, render_only=False, render_test=False, render_factor=0, precrop_iters=0, precrop_frac=0.5, dataset_type='llff', testskip=8, shape='greek', white_bkgd=False, half_res=False, factor=8, no_ndc=False, lindisp=False, spherify=False, llffhold=8, i_print=500, i_img=500, i_weights=500, i_testset=500, i_video=500, n_iters=501, n=4, n0=4, baseline=True, using_sample_percentage=0.7, val_iter=100)\n"
   ]
  },
  {
   "cell_type": "code",
   "execution_count": 5,
   "id": "ec98df21",
   "metadata": {
    "scrolled": true
   },
   "outputs": [
    {
     "name": "stdout",
     "output_type": "stream",
     "text": [
      "Loaded image data (378, 504, 3, 20) [378.         504.         407.56579161]\n",
      "Loaded ../data/nerf_llff_data/fern 16.985296178676084 80.00209740336334\n",
      "recentered (3, 5)\n",
      "[[ 1.0000000e+00  0.0000000e+00  0.0000000e+00  1.4901161e-09]\n",
      " [ 0.0000000e+00  1.0000000e+00 -1.8730975e-09 -9.6857544e-09]\n",
      " [-0.0000000e+00  1.8730975e-09  1.0000000e+00  0.0000000e+00]]\n",
      "Data:\n",
      "(20, 3, 5) (20, 378, 504, 3) (20, 2)\n",
      "HOLDOUT view is 12\n",
      "Loaded llff (20, 378, 504, 3) (120, 3, 5) [378.     504.     407.5658] ../data/nerf_llff_data/fern\n",
      "Auto LLFF holdout, 8\n",
      "DEFINING BOUNDS\n",
      "NEAR FAR 0.0 1.0\n",
      "Found ckpts []\n",
      "get rays\n",
      "done, concats\n",
      "shuffle rays\n",
      "done\n",
      "Begin\n",
      "TRAIN views are [ 1  2  3  4  5  6  7  9 10 11 12 13 14 15 17 18 19]\n",
      "TEST views are [ 0  8 16]\n",
      "VAL views are [ 0  8 16]\n",
      "(20, 3, 5) (4845, 4)\n",
      "\n",
      "RL Start==========\n",
      "    Action Space: [[ 0  1  2  3]\n",
      " [ 0  1  2  4]\n",
      " [ 0  1  2  5]\n",
      " ...\n",
      " [15 16 18 19]\n",
      " [15 17 18 19]\n",
      " [16 17 18 19]]\n",
      "    Episode Len: 5\n",
      "              \n"
     ]
    }
   ],
   "source": [
    "import os\n",
    "import time\n",
    "import numpy as np\n",
    "from rl_models.dddqn import DDDQNAgent\n",
    "from rl_env import NeRFENV\n",
    "\n",
    "env = NeRFENV(args)"
   ]
  },
  {
   "cell_type": "code",
   "execution_count": 6,
   "id": "0f13b5cd",
   "metadata": {},
   "outputs": [],
   "source": [
    "agent = DDDQNAgent(lr=1e-3, gamma=0.99, n_actions=5, epsilon=1.0,\n",
    "                batch_size=64, input_dims=[1], mem_size=100000)"
   ]
  },
  {
   "cell_type": "code",
   "execution_count": 2,
   "id": "5df4cd50",
   "metadata": {},
   "outputs": [
    {
     "data": {
      "text/plain": [
       "array([1, 4])"
      ]
     },
     "execution_count": 2,
     "metadata": {},
     "output_type": "execute_result"
    }
   ],
   "source": [
    "np.random.choice([1,2,3,4], 2)"
   ]
  },
  {
   "cell_type": "code",
   "execution_count": 12,
   "id": "43cd3eb4",
   "metadata": {},
   "outputs": [
    {
     "data": {
      "text/plain": [
       "(1, 378, 504, 3)"
      ]
     },
     "execution_count": 12,
     "metadata": {},
     "output_type": "execute_result"
    }
   ],
   "source": [
    "a = np.ones((1,378,504,3))\n",
    "a.shape"
   ]
  },
  {
   "cell_type": "code",
   "execution_count": 14,
   "id": "ac7012da-9167-41ee-b2ce-9f61e372158d",
   "metadata": {},
   "outputs": [
    {
     "data": {
      "text/plain": [
       "(1, 504, 378, 3)"
      ]
     },
     "execution_count": 14,
     "metadata": {},
     "output_type": "execute_result"
    }
   ],
   "source": [
    "a.transpose(0,2,1,3).shape"
   ]
  },
  {
   "cell_type": "code",
   "execution_count": null,
   "id": "bd34f79d-15e3-45fa-923e-c5af7a68862f",
   "metadata": {},
   "outputs": [],
   "source": []
  }
 ],
 "metadata": {
  "kernelspec": {
   "display_name": "Python 3 (ipykernel)",
   "language": "python",
   "name": "python3"
  },
  "language_info": {
   "codemirror_mode": {
    "name": "ipython",
    "version": 3
   },
   "file_extension": ".py",
   "mimetype": "text/x-python",
   "name": "python",
   "nbconvert_exporter": "python",
   "pygments_lexer": "ipython3",
   "version": "3.8.18"
  }
 },
 "nbformat": 4,
 "nbformat_minor": 5
}
