{
 "cells": [
  {
   "cell_type": "code",
   "execution_count": 1,
   "id": "5148e3b9",
   "metadata": {},
   "outputs": [
    {
     "ename": "ImportError",
     "evalue": "/home/koala/anaconda3/envs/asim/bin/../lib/libstdc++.so.6: version `GLIBCXX_3.4.30' not found (required by /home/koala/AgriSim-virtual-NeRF-training/models/instant-ngp/build/pyngp.cpython-38-x86_64-linux-gnu.so)",
     "output_type": "error",
     "traceback": [
      "\u001b[0;31m---------------------------------------------------------------------------\u001b[0m",
      "\u001b[0;31mImportError\u001b[0m                               Traceback (most recent call last)",
      "Cell \u001b[0;32mIn[1], line 17\u001b[0m\n\u001b[1;32m     15\u001b[0m pyngp_path \u001b[38;5;241m=\u001b[39m \u001b[38;5;124m'\u001b[39m\u001b[38;5;124m/home/koala/AgriSim-virtual-NeRF-training/models/instant-ngp/build\u001b[39m\u001b[38;5;124m'\u001b[39m\n\u001b[1;32m     16\u001b[0m sys\u001b[38;5;241m.\u001b[39mpath\u001b[38;5;241m.\u001b[39mappend(pyngp_path)\n\u001b[0;32m---> 17\u001b[0m \u001b[38;5;28;01mimport\u001b[39;00m \u001b[38;5;21;01mpyngp\u001b[39;00m \u001b[38;5;28;01mas\u001b[39;00m \u001b[38;5;21;01mngp\u001b[39;00m \u001b[38;5;66;03m# noqa\u001b[39;00m\n\u001b[1;32m     18\u001b[0m pyngp_path \u001b[38;5;241m=\u001b[39m \u001b[38;5;124m'\u001b[39m\u001b[38;5;124m/home/koala/AgriSim-virtual-NeRF-training/models/instant-ngp/\u001b[39m\u001b[38;5;124m'\u001b[39m\n\u001b[1;32m     19\u001b[0m sys\u001b[38;5;241m.\u001b[39mpath\u001b[38;5;241m.\u001b[39mappend(pyngp_path)\n",
      "\u001b[0;31mImportError\u001b[0m: /home/koala/anaconda3/envs/asim/bin/../lib/libstdc++.so.6: version `GLIBCXX_3.4.30' not found (required by /home/koala/AgriSim-virtual-NeRF-training/models/instant-ngp/build/pyngp.cpython-38-x86_64-linux-gnu.so)"
     ]
    }
   ],
   "source": [
    "%load_ext autoreload\n",
    "%autoreload 2\n",
    "import argparse\n",
    "import os\n",
    "import commentjson as json\n",
    "\n",
    "import numpy as np\n",
    "\n",
    "import shutil\n",
    "import time\n",
    "import sys\n",
    "\n",
    "pyngp_path = '/home/koala/AgriSim-virtual-NeRF-training/models/instant-ngp/build'\n",
    "sys.path.append(pyngp_path)\n",
    "import pyngp as ngp # noqa\n",
    "sys.path.append('/home/koala/AgriSim-virtual-NeRF-training/models/instant-ngp/')\n",
    "from common import *\n",
    "from scenes import *\n",
    "\n",
    "from tqdm import tqdm"
   ]
  },
  {
   "cell_type": "code",
   "execution_count": 1,
   "id": "e0c19cbe",
   "metadata": {},
   "outputs": [],
   "source": [
    "import numpy as np"
   ]
  },
  {
   "cell_type": "code",
   "execution_count": 2,
   "id": "2c7b7113",
   "metadata": {},
   "outputs": [],
   "source": [
    "selec_poses = np.array([[1,1,1],[2,2,2]])\n",
    "poses = np.array([[1,1,1],[2,2,2],[3,3,3],[4,4,4]])"
   ]
  },
  {
   "cell_type": "code",
   "execution_count": 8,
   "id": "cb2b0b6c",
   "metadata": {},
   "outputs": [
    {
     "data": {
      "text/plain": [
       "(array([0, 0, 0]), array([0, 1, 2]))"
      ]
     },
     "execution_count": 8,
     "metadata": {},
     "output_type": "execute_result"
    }
   ],
   "source": [
    "np.where(poses == selec_poses[0])"
   ]
  },
  {
   "cell_type": "code",
   "execution_count": 11,
   "id": "8aad44db",
   "metadata": {},
   "outputs": [
    {
     "data": {
      "text/plain": [
       "1"
      ]
     },
     "execution_count": 11,
     "metadata": {},
     "output_type": "execute_result"
    }
   ],
   "source": [
    "poses.tolist().index(selec_poses[1].tolist())"
   ]
  },
  {
   "cell_type": "code",
   "execution_count": 15,
   "id": "899cb774",
   "metadata": {},
   "outputs": [],
   "source": [
    "\n",
    "import argparse\n",
    "import os\n",
    "import time\n",
    "import sys\n",
    "import commentjson as json\n",
    "import numpy as np\n",
    "\n",
    "sys.path.append(\"..\")\n",
    "from AgriSim.unity_sampler.sampler import UnitySampler\n",
    "\n",
    "sampler = UnitySampler(object_family='02843684', \n",
    "                                object_id='1b73f96cf598ef492cba66dc6aeabcd4', \n",
    "                                screenshot_dir=\"../data/unity_images\",\n",
    "                                config_path='../AgriSim/config.yaml')"
   ]
  },
  {
   "cell_type": "code",
   "execution_count": 18,
   "id": "aed2bdbc",
   "metadata": {},
   "outputs": [
    {
     "name": "stdout",
     "output_type": "stream",
     "text": [
      "Generated 50 default unity images.\n"
     ]
    }
   ],
   "source": [
    "sampler.generate_imgs(sample_default=True, default_sample_num=50, \n",
    "                      additional_viewpoints=[[0, 5, 0, 3.14, 0]])"
   ]
  },
  {
   "cell_type": "code",
   "execution_count": null,
   "id": "eff0e7cf",
   "metadata": {},
   "outputs": [],
   "source": []
  },
  {
   "cell_type": "code",
   "execution_count": null,
   "id": "af60b019",
   "metadata": {},
   "outputs": [],
   "source": []
  },
  {
   "cell_type": "code",
   "execution_count": null,
   "id": "502a0018",
   "metadata": {},
   "outputs": [],
   "source": []
  },
  {
   "cell_type": "code",
   "execution_count": null,
   "id": "b912aa51",
   "metadata": {},
   "outputs": [],
   "source": []
  },
  {
   "cell_type": "code",
   "execution_count": null,
   "id": "6957ee1d",
   "metadata": {},
   "outputs": [],
   "source": []
  },
  {
   "cell_type": "code",
   "execution_count": 19,
   "id": "39433e1b",
   "metadata": {},
   "outputs": [
    {
     "name": "stdout",
     "output_type": "stream",
     "text": [
      "[ 0.56098553  0.43045933 -0.09229596  0.70105738]\n"
     ]
    }
   ],
   "source": [
    "from scipy.spatial.transform import Rotation\n",
    "\n",
    "# Create a rotation object from Euler angles specifying axes of rotation\n",
    "rot = Rotation.from_euler('xyz', [90, 45, 30], degrees=True)\n",
    "\n",
    "# Convert to quaternions and print\n",
    "rot_quat = rot.as_quat()\n",
    "print(rot_quat)"
   ]
  },
  {
   "cell_type": "code",
   "execution_count": null,
   "id": "efae4cf6",
   "metadata": {},
   "outputs": [],
   "source": [
    "    def _get_viewing_dir(self, theta, phi): \n",
    "        \"\"\"\n",
    "        Convert the camera poses into position/quaternion data to feed into Unity\n",
    "    \n",
    "        Args:\n",
    "            theta (float): polar angle\n",
    "            phi (float): azimuth angle\n",
    "        Returns:\n",
    "            R (np.ndarray): 3x3 Rotation matrix\n",
    "        \"\"\"\n",
    "        # Viewing direction needs to point inwards, so flip the signs of the angle\n",
    "        theta, phi = -theta, -phi\n",
    "        R = np.array([\n",
    "            [np.sin(theta)*np.cos(phi), np.cos(theta)*np.cos(phi), -np.sin(phi)],\n",
    "            [np.sin(theta)*np.sin(phi), np.cos(theta)*np.sin(phi), np.cos(phi)],\n",
    "            [np.cos(theta), -np.sin(theta), 0],\n",
    "        ])\n",
    "        \n",
    "        return R"
   ]
  },
  {
   "cell_type": "code",
   "execution_count": null,
   "id": "1940bf1a",
   "metadata": {},
   "outputs": [],
   "source": []
  },
  {
   "cell_type": "code",
   "execution_count": null,
   "id": "1f2b35ea",
   "metadata": {},
   "outputs": [],
   "source": []
  },
  {
   "cell_type": "code",
   "execution_count": null,
   "id": "dc780d4a",
   "metadata": {},
   "outputs": [],
   "source": []
  },
  {
   "cell_type": "code",
   "execution_count": null,
   "id": "561f8bcb",
   "metadata": {},
   "outputs": [],
   "source": []
  },
  {
   "cell_type": "code",
   "execution_count": null,
   "id": "9e52e407",
   "metadata": {},
   "outputs": [],
   "source": []
  }
 ],
 "metadata": {
  "kernelspec": {
   "display_name": "asim",
   "language": "python",
   "name": "asim"
  },
  "language_info": {
   "codemirror_mode": {
    "name": "ipython",
    "version": 3
   },
   "file_extension": ".py",
   "mimetype": "text/x-python",
   "name": "python",
   "nbconvert_exporter": "python",
   "pygments_lexer": "ipython3",
   "version": "3.8.18"
  }
 },
 "nbformat": 4,
 "nbformat_minor": 5
}
