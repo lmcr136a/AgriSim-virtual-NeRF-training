{
 "cells": [
  {
   "cell_type": "code",
   "execution_count": 1,
   "id": "5148e3b9",
   "metadata": {},
   "outputs": [
    {
     "ename": "ImportError",
     "evalue": "/home/koala/anaconda3/envs/asim/bin/../lib/libstdc++.so.6: version `GLIBCXX_3.4.30' not found (required by /home/koala/AgriSim-virtual-NeRF-training/models/instant-ngp/build/pyngp.cpython-38-x86_64-linux-gnu.so)",
     "output_type": "error",
     "traceback": [
      "\u001b[0;31m---------------------------------------------------------------------------\u001b[0m",
      "\u001b[0;31mImportError\u001b[0m                               Traceback (most recent call last)",
      "Cell \u001b[0;32mIn[1], line 17\u001b[0m\n\u001b[1;32m     15\u001b[0m pyngp_path \u001b[38;5;241m=\u001b[39m \u001b[38;5;124m'\u001b[39m\u001b[38;5;124m/home/koala/AgriSim-virtual-NeRF-training/models/instant-ngp/build\u001b[39m\u001b[38;5;124m'\u001b[39m\n\u001b[1;32m     16\u001b[0m sys\u001b[38;5;241m.\u001b[39mpath\u001b[38;5;241m.\u001b[39mappend(pyngp_path)\n\u001b[0;32m---> 17\u001b[0m \u001b[38;5;28;01mimport\u001b[39;00m \u001b[38;5;21;01mpyngp\u001b[39;00m \u001b[38;5;28;01mas\u001b[39;00m \u001b[38;5;21;01mngp\u001b[39;00m \u001b[38;5;66;03m# noqa\u001b[39;00m\n\u001b[1;32m     18\u001b[0m pyngp_path \u001b[38;5;241m=\u001b[39m \u001b[38;5;124m'\u001b[39m\u001b[38;5;124m/home/koala/AgriSim-virtual-NeRF-training/models/instant-ngp/\u001b[39m\u001b[38;5;124m'\u001b[39m\n\u001b[1;32m     19\u001b[0m sys\u001b[38;5;241m.\u001b[39mpath\u001b[38;5;241m.\u001b[39mappend(pyngp_path)\n",
      "\u001b[0;31mImportError\u001b[0m: /home/koala/anaconda3/envs/asim/bin/../lib/libstdc++.so.6: version `GLIBCXX_3.4.30' not found (required by /home/koala/AgriSim-virtual-NeRF-training/models/instant-ngp/build/pyngp.cpython-38-x86_64-linux-gnu.so)"
     ]
    }
   ],
   "source": [
    "%load_ext autoreload\n",
    "%autoreload 2\n",
    "import argparse\n",
    "import os\n",
    "import commentjson as json\n",
    "\n",
    "import numpy as np\n",
    "\n",
    "import shutil\n",
    "import time\n",
    "import sys\n",
    "\n",
    "pyngp_path = '/home/koala/AgriSim-virtual-NeRF-training/models/instant-ngp/build'\n",
    "sys.path.append(pyngp_path)\n",
    "import pyngp as ngp # noqa\n",
    "sys.path.append('/home/koala/AgriSim-virtual-NeRF-training/models/instant-ngp/')\n",
    "from common import *\n",
    "from scenes import *\n",
    "\n",
    "from tqdm import tqdm"
   ]
  },
  {
   "cell_type": "code",
   "execution_count": 1,
   "id": "dee55cb1",
   "metadata": {},
   "outputs": [],
   "source": [
    "import numpy as np"
   ]
  },
  {
   "cell_type": "code",
   "execution_count": 2,
   "id": "a36e8415",
   "metadata": {},
   "outputs": [],
   "source": [
    "selec_poses = np.array([[1,1,1],[2,2,2]])\n",
    "poses = np.array([[1,1,1],[2,2,2],[3,3,3],[4,4,4]])"
   ]
  },
  {
   "cell_type": "code",
   "execution_count": 8,
   "id": "06c75e32",
   "metadata": {},
   "outputs": [
    {
     "data": {
      "text/plain": [
       "(array([0, 0, 0]), array([0, 1, 2]))"
      ]
     },
     "execution_count": 8,
     "metadata": {},
     "output_type": "execute_result"
    }
   ],
   "source": [
    "np.where(poses == selec_poses[0])"
   ]
  },
  {
   "cell_type": "code",
   "execution_count": 11,
   "id": "fcc14ff2",
   "metadata": {},
   "outputs": [
    {
     "data": {
      "text/plain": [
       "1"
      ]
     },
     "execution_count": 11,
     "metadata": {},
     "output_type": "execute_result"
    }
   ],
   "source": [
    "poses.tolist().index(selec_poses[1].tolist())"
   ]
  },
  {
   "cell_type": "code",
   "execution_count": 15,
   "id": "f88fa15b",
   "metadata": {},
   "outputs": [],
   "source": [
    "\n",
    "import argparse\n",
    "import os\n",
    "import time\n",
    "import sys\n",
    "import commentjson as json\n",
    "import numpy as np\n",
    "\n",
    "sys.path.append(\"..\")\n",
    "from AgriSim.unity_sampler.sampler import UnitySampler\n",
    "\n",
    "sampler = UnitySampler(object_family='02843684', \n",
    "                                object_id='1b73f96cf598ef492cba66dc6aeabcd4', \n",
    "                                screenshot_dir=\"../data/unity_images\",\n",
    "                                config_path='../AgriSim/config.yaml')"
   ]
  },
  {
   "cell_type": "code",
   "execution_count": 18,
   "id": "2dfbb621",
   "metadata": {},
   "outputs": [
    {
     "name": "stdout",
     "output_type": "stream",
     "text": [
      "Generated 50 default unity images.\n"
     ]
    }
   ],
   "source": [
    "sampler.generate_imgs(sample_default=True, default_sample_num=50, \n",
    "                      additional_viewpoints=[[0, 5, 0, 3.14, 0]])"
   ]
  },
  {
   "cell_type": "code",
   "execution_count": 37,
   "id": "4a417780",
   "metadata": {},
   "outputs": [
    {
     "data": {
      "text/plain": [
       "(7, 20, 7, 0.7853981633974483, 0.4596193309638148)"
      ]
     },
     "execution_count": 37,
     "metadata": {},
     "output_type": "execute_result"
    }
   ],
   "source": [
    "ap = [7,20, 7]\n",
    "theta, phi = cartesian_to_spherical(*ap)\n",
    "*ap, theta, phi"
   ]
  },
  {
   "cell_type": "code",
   "execution_count": 28,
   "id": "972bb03b",
   "metadata": {},
   "outputs": [],
   "source": [
    "\n",
    "import numpy as np\n",
    "import quaternion as q\n",
    "import math\n",
    "def cartesian_to_spherical(x, z, y):\n",
    "    phi = math.atan2(math.sqrt(x ** 2 + y ** 2), z)\n",
    "    theta = math.atan2(y, x) if x >= 0 else math.atan2(y, x) + math.pi\n",
    "    return theta, phi\n"
   ]
  },
  {
   "cell_type": "code",
   "execution_count": 49,
   "id": "5067b90a",
   "metadata": {},
   "outputs": [
    {
     "data": {
      "text/plain": [
       "(array([0.        , 0.70710678, 0.        ]), 0.7071067811865475)"
      ]
     },
     "execution_count": 49,
     "metadata": {},
     "output_type": "execute_result"
    }
   ],
   "source": [
    "start_pose = np.array([0, 0, 1])  # x, y, z\n",
    "end_pose = np.array([1, 0, 1])\n",
    "\n",
    "end_pose = end_pose/np.linalg.norm(end_pose)\n",
    "q_xyz = np.cross(start_pose, end_pose)\n",
    "q_w = np.dot(start_pose, end_pose)\n",
    "q_xyz, q_w"
   ]
  },
  {
   "cell_type": "code",
   "execution_count": 19,
   "id": "3b5d4b3c",
   "metadata": {},
   "outputs": [
    {
     "name": "stdout",
     "output_type": "stream",
     "text": [
      "[ 0.56098553  0.43045933 -0.09229596  0.70105738]\n"
     ]
    }
   ],
   "source": [
    "from scipy.spatial.transform import Rotation\n",
    "\n",
    "# Create a rotation object from Euler angles specifying axes of rotation\n",
    "rot = Rotation.from_euler('xyz', [90, 45, 30], degrees=True)\n",
    "\n",
    "# Convert to quaternions and print\n",
    "rot_quat = rot.as_quat()\n",
    "print(rot_quat)"
   ]
  },
  {
   "cell_type": "code",
   "execution_count": null,
   "id": "7f456238",
   "metadata": {},
   "outputs": [],
   "source": [
    "    def _get_viewing_dir(self, theta, phi): \n",
    "        \"\"\"\n",
    "        Convert the camera poses into position/quaternion data to feed into Unity\n",
    "    \n",
    "        Args:\n",
    "            theta (float): polar angle\n",
    "            phi (float): azimuth angle\n",
    "        Returns:\n",
    "            R (np.ndarray): 3x3 Rotation matrix\n",
    "        \"\"\"\n",
    "        # Viewing direction needs to point inwards, so flip the signs of the angle\n",
    "        theta, phi = -theta, -phi\n",
    "        R = np.array([\n",
    "            [np.sin(theta)*np.cos(phi), np.cos(theta)*np.cos(phi), -np.sin(phi)],\n",
    "            [np.sin(theta)*np.sin(phi), np.cos(theta)*np.sin(phi), np.cos(phi)],\n",
    "            [np.cos(theta), -np.sin(theta), 0],\n",
    "        ])\n",
    "        \n",
    "        return R"
   ]
  },
  {
   "cell_type": "code",
   "execution_count": 55,
   "id": "095b77ac",
   "metadata": {},
   "outputs": [
    {
     "data": {
      "text/plain": [
       "array([[ 11.2070421 ,  -3.96662105,  -1.76990945],\n",
       "       [ -9.8816518 , -10.51264564,   4.41553482],\n",
       "       [  5.86170078,  -7.18211757, -18.07820419],\n",
       "       [  9.32318508,  -6.64157771,   5.28852729],\n",
       "       [ -8.39933002,  -0.95194761,   1.49766416],\n",
       "       [  3.97589021,  -8.45097282, -17.69031965],\n",
       "       [-12.3238359 , -12.30566337, -16.63239012],\n",
       "       [ 14.29001858, -14.49214561,   5.13430707],\n",
       "       [ -2.17694909, -16.85678187,  12.48784132],\n",
       "       [ -1.7729561 , -12.43796973,  17.5187516 ],\n",
       "       [ 10.38162423, -11.74929498,  17.48393181],\n",
       "       [ 17.91619016,  -1.95041387,   1.38427127],\n",
       "       [ 11.72087716,  -1.46618376,   2.51269721],\n",
       "       [ 13.58743001, -16.98923163,  13.06189205],\n",
       "       [ -1.13297388,  -9.5220754 ,   7.78980461],\n",
       "       [-13.60957178, -15.01001884,  -1.61823011],\n",
       "       [-16.16216371,  -2.4273482 ,   0.96544906],\n",
       "       [-11.207968  ,  -6.87515196,  -0.50541337],\n",
       "       [ 11.97696151,  -3.06122404, -17.28842456],\n",
       "       [ 16.60322788, -11.22529822, -16.52955296],\n",
       "       [  1.94119847, -16.12407132,   8.37541744],\n",
       "       [-19.44143886, -10.81049766,   6.42859265],\n",
       "       [ -6.48768059, -18.57898209,   6.06503171],\n",
       "       [ -5.04521729, -13.93321343,  18.41490393],\n",
       "       [ 18.07825512, -17.60598383, -19.06169404],\n",
       "       [ 16.57737173,  -0.81101691,  -4.3422178 ],\n",
       "       [-13.53545121,  -8.0239056 , -14.83926046],\n",
       "       [  1.51288584,  -7.46945041,  -1.56156116],\n",
       "       [  8.27460903,  -0.21237503,   6.82716789],\n",
       "       [-17.58459065,  -2.71393278,  11.05286571],\n",
       "       [  8.02322296,  -1.01976491,  17.25200961],\n",
       "       [ 14.99181386, -15.34347827,   4.85831863],\n",
       "       [ 17.90009232, -14.90106928, -13.54478231],\n",
       "       [-18.13809884, -12.86851756, -18.15089059],\n",
       "       [ -0.51842007, -17.12633202,  -2.8699491 ],\n",
       "       [-19.84027811, -13.61036625,  -3.48128643],\n",
       "       [ 12.56298563,  -8.585717  ,  14.80375217],\n",
       "       [ 16.36303505,  -2.46908013,  17.96254904],\n",
       "       [-11.09962719, -12.99599981,  -7.950177  ],\n",
       "       [-13.40648776,  -3.81991348, -18.95905367],\n",
       "       [ 10.59596189, -12.78083235,  -8.85634704],\n",
       "       [  0.22723447,  -7.07016352, -17.32417683],\n",
       "       [ 15.54454443,  -2.87269035, -19.43525807],\n",
       "       [ -6.55397171,  -4.56398845,  -4.31195869],\n",
       "       [ -1.14524873, -14.74676278,  13.77713867],\n",
       "       [-13.23939062, -17.40219159,  -7.69182237],\n",
       "       [ 19.79309958,  -3.10473841, -16.6768786 ],\n",
       "       [-19.56016263, -16.69661697,   8.06262843],\n",
       "       [  8.95065314,  -1.59786216,   7.46700815],\n",
       "       [ -8.62216455,  -2.3670445 , -17.43972448],\n",
       "       [ 14.20072413,  -5.26869112,  -9.15829334],\n",
       "       [ -7.97746376, -17.58552265,   1.5782459 ],\n",
       "       [-16.25360183, -16.56443028,  10.93018491],\n",
       "       [ 12.00977782,  -2.95361744,   5.22718635],\n",
       "       [ 16.11165446, -13.3182513 , -11.15366493],\n",
       "       [  3.99857465,  -9.00030931, -18.95192194],\n",
       "       [  4.44708121, -11.49015406,  12.60701957],\n",
       "       [ -1.83190831, -16.19319969,  -2.59455814],\n",
       "       [ -2.53643189,  -3.16375509, -18.5310186 ],\n",
       "       [  8.93707001, -15.08679563, -17.26261924],\n",
       "       [ 10.67250271,  -3.68546221,   4.84916449],\n",
       "       [ -8.91950924,  -1.19436208,   1.47287871],\n",
       "       [  6.16322864, -10.19503274,  -3.97477689],\n",
       "       [-17.01231579,  -1.30396692,  -5.36698842],\n",
       "       [  9.4197265 , -12.98115446,   6.8775815 ],\n",
       "       [ 11.0130701 , -11.99905943,   2.39676949],\n",
       "       [-19.10536509,  -6.71359478, -16.6666926 ],\n",
       "       [ -7.42702997,  -7.63548464, -16.96178583],\n",
       "       [  0.88491655,  -6.92573203,  10.4219955 ],\n",
       "       [  1.56244429,  -6.35374434,  -8.66510781],\n",
       "       [ 14.00453684,  -7.25118883, -18.14918292],\n",
       "       [ -9.22541349, -18.76287803, -13.94483193],\n",
       "       [-12.04751799,  -1.17487523,   2.48337528],\n",
       "       [ -5.2898791 ,  -7.91816826,   6.57205245],\n",
       "       [-13.5258718 , -14.68197199,  14.57567251],\n",
       "       [  4.47982382, -19.9338132 , -11.43556608],\n",
       "       [-11.25567466,  -7.97370432, -16.13701115],\n",
       "       [ -9.40816119,  -4.98302356,  -9.0876971 ],\n",
       "       [ 19.56085766,  -4.49556341,   3.07648163],\n",
       "       [-10.43129819,  -5.00905624,  -4.5875102 ],\n",
       "       [  9.25134185,  -1.05361291,   2.31504486],\n",
       "       [  5.61961285, -15.12426784,  -4.96798076],\n",
       "       [-18.72336578, -18.31288223,  -7.55182904],\n",
       "       [-19.69998654, -18.23953177,   0.53763033],\n",
       "       [-16.45247472,  -4.72531573,  11.10595136],\n",
       "       [  2.57427416,  -8.51112222,  -8.32156809],\n",
       "       [  8.94840337,  -8.43432839,  17.79183862],\n",
       "       [ -4.34352198, -14.79350955,  11.12000267],\n",
       "       [-12.97255045, -11.02942403,   0.24099947],\n",
       "       [ 15.48275356,  -7.26238127,  19.50225133],\n",
       "       [ 11.09752375, -15.19125863, -15.16770943],\n",
       "       [  0.56120476,  -9.0270067 ,  -4.39756583],\n",
       "       [ 14.60127253,  -9.06492375,   2.31005509],\n",
       "       [  8.77882317,  -7.70595888,   5.70943106],\n",
       "       [  2.35520137, -11.75762018,  -8.9032195 ],\n",
       "       [  1.57863244, -15.72893139,  -3.51673597],\n",
       "       [ 15.01375503, -14.87948169,  11.85438653],\n",
       "       [-13.42123518, -11.87708236,  -4.56023453],\n",
       "       [ 18.62149823,  -7.42861775,   2.6184259 ],\n",
       "       [ 16.03828346,  -9.19686231, -13.09438163]])"
      ]
     },
     "execution_count": 55,
     "metadata": {},
     "output_type": "execute_result"
    }
   ],
   "source": [
    "limit = 20\n",
    "random_poses = (np.random.random_sample((100, 3))-0.5)*limit*2\n",
    "random_poses[:, 1] = -np.abs(random_poses[:, 1])\n",
    "random_poses"
   ]
  },
  {
   "cell_type": "code",
   "execution_count": null,
   "id": "11af6b3c",
   "metadata": {},
   "outputs": [],
   "source": []
  },
  {
   "cell_type": "code",
   "execution_count": null,
   "id": "8db10eb7",
   "metadata": {},
   "outputs": [],
   "source": []
  },
  {
   "cell_type": "code",
   "execution_count": null,
   "id": "ddc2c71f",
   "metadata": {},
   "outputs": [],
   "source": []
  },
  {
   "cell_type": "code",
   "execution_count": null,
   "id": "9e52e407",
   "metadata": {},
   "outputs": [],
   "source": []
  }
 ],
 "metadata": {
  "kernelspec": {
   "display_name": "asim",
   "language": "python",
   "name": "asim"
  },
  "language_info": {
   "codemirror_mode": {
    "name": "ipython",
    "version": 3
   },
   "file_extension": ".py",
   "mimetype": "text/x-python",
   "name": "python",
   "nbconvert_exporter": "python",
   "pygments_lexer": "ipython3",
   "version": "3.8.18"
  }
 },
 "nbformat": 4,
 "nbformat_minor": 5
}
